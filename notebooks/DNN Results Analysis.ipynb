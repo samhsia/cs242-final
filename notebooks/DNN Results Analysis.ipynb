{
 "cells": [
  {
   "cell_type": "code",
   "execution_count": 8,
   "id": "57458b69",
   "metadata": {},
   "outputs": [],
   "source": [
    "import matplotlib.pyplot as plt\n",
    "\n",
    "import numpy as np\n",
    "\n",
    "import torch"
   ]
  },
  {
   "cell_type": "code",
   "execution_count": 5,
   "id": "5eb3e4e8",
   "metadata": {},
   "outputs": [],
   "source": [
    "results = torch.load('../final_results.pt')"
   ]
  },
  {
   "cell_type": "code",
   "execution_count": 29,
   "id": "4e5c314e",
   "metadata": {},
   "outputs": [
    {
     "name": "stdout",
     "output_type": "stream",
     "text": [
      "[0, 4.511207342147827, 9.61325690150261, 14.669755473732948, 18.799742683768272]\n",
      "[153.89589592814445, 146.99972420930862, 146.7863917350769, 147.23029546439648, 0.1719687134027481]\n"
     ]
    }
   ],
   "source": [
    "print(results['layer_0_perf']['exec-time-approx'])\n",
    "print(results['layer_0_perf']['exec-time-compute'])"
   ]
  },
  {
   "cell_type": "code",
   "execution_count": 31,
   "id": "b87a4c4a",
   "metadata": {},
   "outputs": [
    {
     "name": "stdout",
     "output_type": "stream",
     "text": [
      "0 0 [  0.         154.18691561]\n",
      "0 1 [  0.96488185 154.16880138]\n",
      "0 2 [  1.87994726 154.15087901]\n",
      "0 3 [  2.74707936 154.16686051]\n",
      "0 4 [  3.45439836 154.05088291]\n",
      "1 0 [  4.51120734 147.23625407]\n",
      "1 1 [  5.43887354 147.27789164]\n",
      "1 2 [  6.22540899 147.37014659]\n",
      "1 3 [  7.14943372 147.22279459]\n",
      "1 4 [  8.08319449 147.1837759 ]\n",
      "2 0 [  9.6132569  147.02741057]\n",
      "2 1 [ 10.65515727 147.05656655]\n",
      "2 2 [ 11.5723107  147.10353129]\n",
      "2 3 [ 12.33052462 147.09766582]\n",
      "2 4 [ 13.59442063 147.04607241]\n",
      "3 0 [ 14.66975547 147.54736796]\n",
      "3 1 [ 15.67145437 147.49070443]\n",
      "3 2 [ 16.45185798 147.55358547]\n",
      "3 3 [ 17.42007211 147.60700241]\n",
      "3 4 [ 18.10757257 147.37658761]\n",
      "4 0 [18.79974268  0.42179599]\n",
      "4 1 [19.73817497  0.47759153]\n",
      "4 2 [20.59230767  0.50430186]\n",
      "4 3 [21.3526953   0.52086636]\n",
      "4 4 [22.33834565  0.32072887]\n",
      "[[[  0.         154.18691561]\n",
      "  [  0.96488185 154.16880138]\n",
      "  [  1.87994726 154.15087901]\n",
      "  [  2.74707936 154.16686051]\n",
      "  [  3.45439836 154.05088291]]\n",
      "\n",
      " [[  4.51120734 147.23625407]\n",
      "  [  5.43887354 147.27789164]\n",
      "  [  6.22540899 147.37014659]\n",
      "  [  7.14943372 147.22279459]\n",
      "  [  8.08319449 147.1837759 ]]\n",
      "\n",
      " [[  9.6132569  147.02741057]\n",
      "  [ 10.65515727 147.05656655]\n",
      "  [ 11.5723107  147.10353129]\n",
      "  [ 12.33052462 147.09766582]\n",
      "  [ 13.59442063 147.04607241]]\n",
      "\n",
      " [[ 14.66975547 147.54736796]\n",
      "  [ 15.67145437 147.49070443]\n",
      "  [ 16.45185798 147.55358547]\n",
      "  [ 17.42007211 147.60700241]\n",
      "  [ 18.10757257 147.37658761]]\n",
      "\n",
      " [[ 18.79974268   0.42179599]\n",
      "  [ 19.73817497   0.47759153]\n",
      "  [ 20.59230767   0.50430186]\n",
      "  [ 21.3526953    0.52086636]\n",
      "  [ 22.33834565   0.32072887]]]\n"
     ]
    }
   ],
   "source": [
    "NUM_SCHEMES = 5\n",
    "\n",
    "timing = np.zeros((NUM_SCHEMES, NUM_SCHEMES, 2))\n",
    "for i in range(NUM_SCHEMES):\n",
    "    base_approx = results['layer_0_perf']['exec-time-approx'][i]\n",
    "    base_compute = results['layer_0_perf']['exec-time-compute'][i]\n",
    "    for j in range(NUM_SCHEMES):\n",
    "        timing[i,:,0] = np.array(results[i]['layer_1_perf']['exec-time-approx']) + base_approx\n",
    "        timing[i,:,1] = np.array(results[i]['layer_1_perf']['exec-time-compute']) + base_compute\n",
    "        print(i, j, timing[i,j,:])\n",
    "        \n",
    "print(timing)"
   ]
  },
  {
   "cell_type": "code",
   "execution_count": 38,
   "id": "75c0b0f9",
   "metadata": {},
   "outputs": [
    {
     "name": "stdout",
     "output_type": "stream",
     "text": [
      "[0, 0.9384322911500931, 1.7925649881362915, 2.552952617406845, 3.538602963089943]\n",
      "[0.2498272806406021, 0.30562281608581543, 0.33233314752578735, 0.34889765083789825, 0.14876015484333038]\n"
     ]
    }
   ],
   "source": [
    "print(results[4]['layer_1_perf']['exec-time-approx'])\n",
    "print(results[4]['layer_1_perf']['exec-time-compute'])"
   ]
  },
  {
   "cell_type": "code",
   "execution_count": 36,
   "id": "707a66cc",
   "metadata": {},
   "outputs": [
    {
     "name": "stdout",
     "output_type": "stream",
     "text": [
      "0 0 97.39583587646484\n",
      "0 1 95.48611450195312\n",
      "0 2 93.92361450195312\n",
      "0 3 92.01388549804688\n",
      "0 4 93.22916412353516\n",
      "1 0 97.39583587646484\n",
      "1 1 95.48611450195312\n",
      "1 2 93.92361450195312\n",
      "1 3 92.01388549804688\n",
      "1 4 93.22916412353516\n",
      "2 0 97.39583587646484\n",
      "2 1 95.48611450195312\n",
      "2 2 93.92361450195312\n",
      "2 3 91.84027862548828\n",
      "2 4 93.22916412353516\n",
      "3 0 97.39583587646484\n",
      "3 1 95.48611450195312\n",
      "3 2 93.92361450195312\n",
      "3 3 92.01388549804688\n",
      "3 4 93.22916412353516\n",
      "4 0 97.39583587646484\n",
      "4 1 95.48611450195312\n",
      "4 2 93.92361450195312\n",
      "4 3 92.01388549804688\n",
      "4 4 93.22916412353516\n"
     ]
    }
   ],
   "source": [
    "accs = np.zeros((NUM_SCHEMES, NUM_SCHEMES))\n",
    "for i in range(NUM_SCHEMES):\n",
    "    for j in range(NUM_SCHEMES):\n",
    "        accs[i,j] = results[i][j]['acc']\n",
    "        print(i, j, accs[i,j])"
   ]
  },
  {
   "cell_type": "code",
   "execution_count": 28,
   "id": "fa84c92c",
   "metadata": {},
   "outputs": [
    {
     "data": {
      "text/plain": [
       "array([[97.39583588, 95.4861145 , 93.9236145 , 92.0138855 , 93.22916412],\n",
       "       [97.39583588, 95.4861145 , 93.9236145 , 92.0138855 , 93.22916412],\n",
       "       [97.39583588, 95.4861145 , 93.9236145 , 91.84027863, 93.22916412],\n",
       "       [97.39583588, 95.4861145 , 93.9236145 , 92.0138855 , 93.22916412],\n",
       "       [97.39583588, 95.4861145 , 93.9236145 , 92.0138855 , 93.22916412]])"
      ]
     },
     "execution_count": 28,
     "metadata": {},
     "output_type": "execute_result"
    }
   ],
   "source": []
  },
  {
   "cell_type": "code",
   "execution_count": null,
   "id": "9ca3eea5",
   "metadata": {},
   "outputs": [],
   "source": []
  }
 ],
 "metadata": {
  "kernelspec": {
   "display_name": "Python 3",
   "language": "python",
   "name": "python3"
  },
  "language_info": {
   "codemirror_mode": {
    "name": "ipython",
    "version": 3
   },
   "file_extension": ".py",
   "mimetype": "text/x-python",
   "name": "python",
   "nbconvert_exporter": "python",
   "pygments_lexer": "ipython3",
   "version": "3.5.2"
  }
 },
 "nbformat": 4,
 "nbformat_minor": 5
}
